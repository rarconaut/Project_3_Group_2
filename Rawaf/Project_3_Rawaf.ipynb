{
 "cells": [
  {
   "cell_type": "markdown",
   "metadata": {},
   "source": [
    "# Logistic Regression"
   ]
  },
  {
   "cell_type": "markdown",
   "metadata": {},
   "source": [
    "Cleaning and Preprocessing Data for Machine Learning"
   ]
  },
  {
   "cell_type": "code",
   "execution_count": 1,
   "metadata": {},
   "outputs": [],
   "source": [
    "import warnings\n",
    "warnings.simplefilter('ignore')\n",
    "\n",
    "# %matplotlib inline\n",
    "import matplotlib.pyplot as plt\n",
    "import numpy as np\n",
    "import pandas as pd"
   ]
  },
  {
   "cell_type": "code",
   "execution_count": 32,
   "metadata": {},
   "outputs": [
    {
     "data": {
      "text/html": [
       "<div>\n",
       "<style scoped>\n",
       "    .dataframe tbody tr th:only-of-type {\n",
       "        vertical-align: middle;\n",
       "    }\n",
       "\n",
       "    .dataframe tbody tr th {\n",
       "        vertical-align: top;\n",
       "    }\n",
       "\n",
       "    .dataframe thead th {\n",
       "        text-align: right;\n",
       "    }\n",
       "</style>\n",
       "<table border=\"1\" class=\"dataframe\">\n",
       "  <thead>\n",
       "    <tr style=\"text-align: right;\">\n",
       "      <th></th>\n",
       "      <th>city</th>\n",
       "      <th>gender</th>\n",
       "      <th>relevent_experience</th>\n",
       "      <th>enrolled_university</th>\n",
       "      <th>education_level</th>\n",
       "      <th>major_discipline</th>\n",
       "      <th>experience</th>\n",
       "      <th>company_size</th>\n",
       "      <th>company_type</th>\n",
       "      <th>target</th>\n",
       "    </tr>\n",
       "    <tr>\n",
       "      <th>enrollee_id</th>\n",
       "      <th></th>\n",
       "      <th></th>\n",
       "      <th></th>\n",
       "      <th></th>\n",
       "      <th></th>\n",
       "      <th></th>\n",
       "      <th></th>\n",
       "      <th></th>\n",
       "      <th></th>\n",
       "      <th></th>\n",
       "    </tr>\n",
       "  </thead>\n",
       "  <tbody>\n",
       "    <tr>\n",
       "      <th>21102</th>\n",
       "      <td>city_16</td>\n",
       "      <td>Male</td>\n",
       "      <td>Has relevent experience</td>\n",
       "      <td>no_enrollment</td>\n",
       "      <td>Graduate</td>\n",
       "      <td>STEM</td>\n",
       "      <td>3</td>\n",
       "      <td>&lt;10</td>\n",
       "      <td>Pvt Ltd</td>\n",
       "      <td>0.0</td>\n",
       "    </tr>\n",
       "    <tr>\n",
       "      <th>8428</th>\n",
       "      <td>city_103</td>\n",
       "      <td>Male</td>\n",
       "      <td>No relevent experience</td>\n",
       "      <td>no_enrollment</td>\n",
       "      <td>Graduate</td>\n",
       "      <td>Humanities</td>\n",
       "      <td>3</td>\n",
       "      <td>50-99</td>\n",
       "      <td>Pvt Ltd</td>\n",
       "      <td>1.0</td>\n",
       "    </tr>\n",
       "    <tr>\n",
       "      <th>4483</th>\n",
       "      <td>city_103</td>\n",
       "      <td>Male</td>\n",
       "      <td>Has relevent experience</td>\n",
       "      <td>no_enrollment</td>\n",
       "      <td>Graduate</td>\n",
       "      <td>STEM</td>\n",
       "      <td>14</td>\n",
       "      <td>&lt;10</td>\n",
       "      <td>Pvt Ltd</td>\n",
       "      <td>0.0</td>\n",
       "    </tr>\n",
       "    <tr>\n",
       "      <th>6990</th>\n",
       "      <td>city_103</td>\n",
       "      <td>Male</td>\n",
       "      <td>Has relevent experience</td>\n",
       "      <td>no_enrollment</td>\n",
       "      <td>Graduate</td>\n",
       "      <td>STEM</td>\n",
       "      <td>8</td>\n",
       "      <td>50-99</td>\n",
       "      <td>Pvt Ltd</td>\n",
       "      <td>0.0</td>\n",
       "    </tr>\n",
       "    <tr>\n",
       "      <th>20599</th>\n",
       "      <td>city_21</td>\n",
       "      <td>Male</td>\n",
       "      <td>Has relevent experience</td>\n",
       "      <td>no_enrollment</td>\n",
       "      <td>Masters</td>\n",
       "      <td>STEM</td>\n",
       "      <td>8</td>\n",
       "      <td>1000-4999</td>\n",
       "      <td>Pvt Ltd</td>\n",
       "      <td>0.0</td>\n",
       "    </tr>\n",
       "  </tbody>\n",
       "</table>\n",
       "</div>"
      ],
      "text/plain": [
       "                 city gender      relevent_experience enrolled_university  \\\n",
       "enrollee_id                                                                 \n",
       "21102         city_16   Male  Has relevent experience       no_enrollment   \n",
       "8428         city_103   Male   No relevent experience       no_enrollment   \n",
       "4483         city_103   Male  Has relevent experience       no_enrollment   \n",
       "6990         city_103   Male  Has relevent experience       no_enrollment   \n",
       "20599         city_21   Male  Has relevent experience       no_enrollment   \n",
       "\n",
       "            education_level major_discipline experience company_size  \\\n",
       "enrollee_id                                                            \n",
       "21102              Graduate             STEM          3          <10   \n",
       "8428               Graduate       Humanities          3        50-99   \n",
       "4483               Graduate             STEM         14          <10   \n",
       "6990               Graduate             STEM          8        50-99   \n",
       "20599               Masters             STEM          8    1000-4999   \n",
       "\n",
       "            company_type  target  \n",
       "enrollee_id                       \n",
       "21102            Pvt Ltd     0.0  \n",
       "8428             Pvt Ltd     1.0  \n",
       "4483             Pvt Ltd     0.0  \n",
       "6990             Pvt Ltd     0.0  \n",
       "20599            Pvt Ltd     0.0  "
      ]
     },
     "execution_count": 32,
     "metadata": {},
     "output_type": "execute_result"
    }
   ],
   "source": [
    "# Read the csv files into a pandas DataFrame\n",
    "\n",
    "train_balanced = pd.read_csv('../Kaggle Data/train_balanced.csv')\n",
    "train_balanced = train_balanced.set_index('enrollee_id')\n",
    "train_balanced.head()\n"
   ]
  },
  {
   "cell_type": "code",
   "execution_count": 36,
   "metadata": {},
   "outputs": [
    {
     "data": {
      "text/plain": [
       "50-99        364\n",
       "100-500      296\n",
       "10000+       254\n",
       "10/49        185\n",
       "1000-4999    184\n",
       "<10          137\n",
       "500-999      116\n",
       "5000-9999     74\n",
       "Name: company_size, dtype: int64"
      ]
     },
     "execution_count": 36,
     "metadata": {},
     "output_type": "execute_result"
    }
   ],
   "source": [
    "train_balanced[\"company_size\"].value_counts()"
   ]
  },
  {
   "cell_type": "code",
   "execution_count": 3,
   "metadata": {
    "scrolled": false
   },
   "outputs": [
    {
     "data": {
      "text/html": [
       "<div>\n",
       "<style scoped>\n",
       "    .dataframe tbody tr th:only-of-type {\n",
       "        vertical-align: middle;\n",
       "    }\n",
       "\n",
       "    .dataframe tbody tr th {\n",
       "        vertical-align: top;\n",
       "    }\n",
       "\n",
       "    .dataframe thead th {\n",
       "        text-align: right;\n",
       "    }\n",
       "</style>\n",
       "<table border=\"1\" class=\"dataframe\">\n",
       "  <thead>\n",
       "    <tr style=\"text-align: right;\">\n",
       "      <th></th>\n",
       "      <th>city</th>\n",
       "      <th>gender</th>\n",
       "      <th>relevent_experience</th>\n",
       "      <th>enrolled_university</th>\n",
       "      <th>education_level</th>\n",
       "      <th>major_discipline</th>\n",
       "      <th>experience</th>\n",
       "      <th>company_size</th>\n",
       "      <th>company_type</th>\n",
       "    </tr>\n",
       "    <tr>\n",
       "      <th>enrollee_id</th>\n",
       "      <th></th>\n",
       "      <th></th>\n",
       "      <th></th>\n",
       "      <th></th>\n",
       "      <th></th>\n",
       "      <th></th>\n",
       "      <th></th>\n",
       "      <th></th>\n",
       "      <th></th>\n",
       "    </tr>\n",
       "  </thead>\n",
       "  <tbody>\n",
       "    <tr>\n",
       "      <th>20453</th>\n",
       "      <td>city_27</td>\n",
       "      <td>Male</td>\n",
       "      <td>Has relevent experience</td>\n",
       "      <td>no_enrollment</td>\n",
       "      <td>Graduate</td>\n",
       "      <td>STEM</td>\n",
       "      <td>3</td>\n",
       "      <td>50-99</td>\n",
       "      <td>Pvt Ltd</td>\n",
       "    </tr>\n",
       "    <tr>\n",
       "      <th>10663</th>\n",
       "      <td>city_114</td>\n",
       "      <td>Male</td>\n",
       "      <td>Has relevent experience</td>\n",
       "      <td>no_enrollment</td>\n",
       "      <td>Masters</td>\n",
       "      <td>STEM</td>\n",
       "      <td>11</td>\n",
       "      <td>1000-4999</td>\n",
       "      <td>Pvt Ltd</td>\n",
       "    </tr>\n",
       "    <tr>\n",
       "      <th>15380</th>\n",
       "      <td>city_21</td>\n",
       "      <td>Male</td>\n",
       "      <td>Has relevent experience</td>\n",
       "      <td>no_enrollment</td>\n",
       "      <td>Graduate</td>\n",
       "      <td>STEM</td>\n",
       "      <td>5</td>\n",
       "      <td>500-999</td>\n",
       "      <td>Pvt Ltd</td>\n",
       "    </tr>\n",
       "    <tr>\n",
       "      <th>30759</th>\n",
       "      <td>city_74</td>\n",
       "      <td>Male</td>\n",
       "      <td>No relevent experience</td>\n",
       "      <td>no_enrollment</td>\n",
       "      <td>Graduate</td>\n",
       "      <td>Other</td>\n",
       "      <td>2</td>\n",
       "      <td>10/49</td>\n",
       "      <td>NGO</td>\n",
       "    </tr>\n",
       "    <tr>\n",
       "      <th>21057</th>\n",
       "      <td>city_103</td>\n",
       "      <td>Male</td>\n",
       "      <td>Has relevent experience</td>\n",
       "      <td>no_enrollment</td>\n",
       "      <td>Masters</td>\n",
       "      <td>STEM</td>\n",
       "      <td>9</td>\n",
       "      <td>50-99</td>\n",
       "      <td>Pvt Ltd</td>\n",
       "    </tr>\n",
       "  </tbody>\n",
       "</table>\n",
       "</div>"
      ],
      "text/plain": [
       "                 city gender      relevent_experience enrolled_university  \\\n",
       "enrollee_id                                                                 \n",
       "20453         city_27   Male  Has relevent experience       no_enrollment   \n",
       "10663        city_114   Male  Has relevent experience       no_enrollment   \n",
       "15380         city_21   Male  Has relevent experience       no_enrollment   \n",
       "30759         city_74   Male   No relevent experience       no_enrollment   \n",
       "21057        city_103   Male  Has relevent experience       no_enrollment   \n",
       "\n",
       "            education_level major_discipline experience company_size  \\\n",
       "enrollee_id                                                            \n",
       "20453              Graduate             STEM          3        50-99   \n",
       "10663               Masters             STEM         11    1000-4999   \n",
       "15380              Graduate             STEM          5      500-999   \n",
       "30759              Graduate            Other          2        10/49   \n",
       "21057               Masters             STEM          9        50-99   \n",
       "\n",
       "            company_type  \n",
       "enrollee_id               \n",
       "20453            Pvt Ltd  \n",
       "10663            Pvt Ltd  \n",
       "15380            Pvt Ltd  \n",
       "30759                NGO  \n",
       "21057            Pvt Ltd  "
      ]
     },
     "execution_count": 3,
     "metadata": {},
     "output_type": "execute_result"
    }
   ],
   "source": [
    "test_balanced = pd.read_csv('../Kaggle Data/test_balanced.csv')\n",
    "test_balanced = test_balanced.set_index('enrollee_id')\n",
    "test_balanced.head()"
   ]
  },
  {
   "cell_type": "markdown",
   "metadata": {},
   "source": [
    "# Job Switching\n",
    "Job switch by HR Analysis\n",
    "\n",
    "This database was created to predict a candidate's decision to switch jobs, based upon the HR metrics collected. The dataset consists of 3,168 recorded voice samples, collected from male and female speakers. The voice samples are pre-processed by , with.\n",
    "\n",
    "Context and Content\n",
    "A company which is active in Big Data and Data Science wants to hire data scientists among people who successfully pass some courses which conduct by the company. Many people signup for their training. Company wants to know which of these candidates are really wants to work for the company after training or looking for a new employment because it helps to reduce the cost and time as well as the quality of training or planning the courses and categorization of candidates. Information related to demographics, education, experience are in hands from candidates signup and enrollment.\n",
    "\n",
    "This dataset designed to understand the factors that lead a person to leave current job for HR researches too. By model(s) that uses the current credentials,demographics,experience data you will predict the probability of a candidate to look for a new job or will work for the company, as well as interpreting affected factors on employee decision.\n",
    "\n",
    "The whole data divided to train and test . Target isn't included in test but the test target values data file is in hands for related tasks. A sample submission correspond to enrollee_id of test set provided too with columns : enrollee _id , target\n",
    "\n",
    "## The Dataset\n",
    "The following HR properties of employees included within the CSV:\n",
    "\n",
    "enrollee_id : Unique ID for candidate\n",
    "\n",
    "city: City code\n",
    "\n",
    "gender: Gender of candidate\n",
    "\n",
    "relevent_experience: Relevant experience of candidate\n",
    "\n",
    "enrolled_university: Type of University course enrolled if any\n",
    "\n",
    "education_level: Education level of candidate\n",
    "\n",
    "major_discipline :Education major discipline of candidate\n",
    "\n",
    "experience: Candidate total experience in years\n",
    "\n",
    "company_size: No of employees in current employer's company\n",
    "\n",
    "company_type : Type of current employer\n",
    "\n",
    "target: 0 – Not looking for job change, 1 – Looking for a job change\n",
    "\n",
    "Notes:\n",
    "The dataset is imbalanced.\n",
    "Most features are categorical (Nominal, Ordinal, Binary), some with high cardinality.\n",
    "Missing imputation can be a part of your pipeline as well.\n",
    "\n",
    "Inspiration\n",
    "Predict the probability of a candidate will work for the company\n",
    "Interpret model(s) such a way that illustrate which features affect candidate decision\n",
    "Please refer to the following task for more details:\n",
    "https://www.kaggle.com/arashnic/hr-analytics-job-change-of-data-scientists/tasks?taskId=3015\n"
   ]
  },
  {
   "cell_type": "markdown",
   "metadata": {},
   "source": [
    "# Preprocessing"
   ]
  },
  {
   "cell_type": "code",
   "execution_count": 4,
   "metadata": {
    "nbgrader": {
     "grade": false,
     "grade_id": "cell-86a9e3212f200d21",
     "locked": false,
     "schema_version": 1,
     "solution": true
    },
    "slideshow": {
     "slide_type": "subslide"
    }
   },
   "outputs": [
    {
     "name": "stdout",
     "output_type": "stream",
     "text": [
      "(1610, 8) (1610,)\n"
     ]
    }
   ],
   "source": [
    "# Assign X (data) and y (target)\n",
    "X = train_balanced.drop([\"target\",\"city\"], axis=1)\n",
    "y = train_balanced[\"target\"]\n",
    "\n",
    "\n",
    "print(X.shape, y.shape)\n",
    "\n",
    "# X_test = test_balanced.drop([\"city\"], axis=1)\n",
    "# print(X_train.shape, y_train.shape)\n",
    "# print(X_test.shape)"
   ]
  },
  {
   "cell_type": "code",
   "execution_count": 5,
   "metadata": {
    "scrolled": true
   },
   "outputs": [
    {
     "data": {
      "text/html": [
       "<div>\n",
       "<style scoped>\n",
       "    .dataframe tbody tr th:only-of-type {\n",
       "        vertical-align: middle;\n",
       "    }\n",
       "\n",
       "    .dataframe tbody tr th {\n",
       "        vertical-align: top;\n",
       "    }\n",
       "\n",
       "    .dataframe thead th {\n",
       "        text-align: right;\n",
       "    }\n",
       "</style>\n",
       "<table border=\"1\" class=\"dataframe\">\n",
       "  <thead>\n",
       "    <tr style=\"text-align: right;\">\n",
       "      <th></th>\n",
       "      <th>gender</th>\n",
       "      <th>relevent_experience</th>\n",
       "      <th>enrolled_university</th>\n",
       "      <th>education_level</th>\n",
       "      <th>major_discipline</th>\n",
       "      <th>experience</th>\n",
       "      <th>company_size</th>\n",
       "      <th>company_type</th>\n",
       "    </tr>\n",
       "    <tr>\n",
       "      <th>enrollee_id</th>\n",
       "      <th></th>\n",
       "      <th></th>\n",
       "      <th></th>\n",
       "      <th></th>\n",
       "      <th></th>\n",
       "      <th></th>\n",
       "      <th></th>\n",
       "      <th></th>\n",
       "    </tr>\n",
       "  </thead>\n",
       "  <tbody>\n",
       "    <tr>\n",
       "      <th>21102</th>\n",
       "      <td>Male</td>\n",
       "      <td>Has relevent experience</td>\n",
       "      <td>no_enrollment</td>\n",
       "      <td>Graduate</td>\n",
       "      <td>STEM</td>\n",
       "      <td>3</td>\n",
       "      <td>&lt;10</td>\n",
       "      <td>Pvt Ltd</td>\n",
       "    </tr>\n",
       "    <tr>\n",
       "      <th>8428</th>\n",
       "      <td>Male</td>\n",
       "      <td>No relevent experience</td>\n",
       "      <td>no_enrollment</td>\n",
       "      <td>Graduate</td>\n",
       "      <td>Humanities</td>\n",
       "      <td>3</td>\n",
       "      <td>50-99</td>\n",
       "      <td>Pvt Ltd</td>\n",
       "    </tr>\n",
       "    <tr>\n",
       "      <th>4483</th>\n",
       "      <td>Male</td>\n",
       "      <td>Has relevent experience</td>\n",
       "      <td>no_enrollment</td>\n",
       "      <td>Graduate</td>\n",
       "      <td>STEM</td>\n",
       "      <td>14</td>\n",
       "      <td>&lt;10</td>\n",
       "      <td>Pvt Ltd</td>\n",
       "    </tr>\n",
       "    <tr>\n",
       "      <th>6990</th>\n",
       "      <td>Male</td>\n",
       "      <td>Has relevent experience</td>\n",
       "      <td>no_enrollment</td>\n",
       "      <td>Graduate</td>\n",
       "      <td>STEM</td>\n",
       "      <td>8</td>\n",
       "      <td>50-99</td>\n",
       "      <td>Pvt Ltd</td>\n",
       "    </tr>\n",
       "    <tr>\n",
       "      <th>20599</th>\n",
       "      <td>Male</td>\n",
       "      <td>Has relevent experience</td>\n",
       "      <td>no_enrollment</td>\n",
       "      <td>Masters</td>\n",
       "      <td>STEM</td>\n",
       "      <td>8</td>\n",
       "      <td>1000-4999</td>\n",
       "      <td>Pvt Ltd</td>\n",
       "    </tr>\n",
       "    <tr>\n",
       "      <th>...</th>\n",
       "      <td>...</td>\n",
       "      <td>...</td>\n",
       "      <td>...</td>\n",
       "      <td>...</td>\n",
       "      <td>...</td>\n",
       "      <td>...</td>\n",
       "      <td>...</td>\n",
       "      <td>...</td>\n",
       "    </tr>\n",
       "    <tr>\n",
       "      <th>33060</th>\n",
       "      <td>Female</td>\n",
       "      <td>No relevent experience</td>\n",
       "      <td>Part time course</td>\n",
       "      <td>Graduate</td>\n",
       "      <td>Other</td>\n",
       "      <td>3</td>\n",
       "      <td>10/49</td>\n",
       "      <td>Funded Startup</td>\n",
       "    </tr>\n",
       "    <tr>\n",
       "      <th>26961</th>\n",
       "      <td>Female</td>\n",
       "      <td>Has relevent experience</td>\n",
       "      <td>no_enrollment</td>\n",
       "      <td>Graduate</td>\n",
       "      <td>STEM</td>\n",
       "      <td>6</td>\n",
       "      <td>100-500</td>\n",
       "      <td>Pvt Ltd</td>\n",
       "    </tr>\n",
       "    <tr>\n",
       "      <th>1281</th>\n",
       "      <td>Female</td>\n",
       "      <td>Has relevent experience</td>\n",
       "      <td>no_enrollment</td>\n",
       "      <td>Masters</td>\n",
       "      <td>STEM</td>\n",
       "      <td>6</td>\n",
       "      <td>10/49</td>\n",
       "      <td>Early Stage Startup</td>\n",
       "    </tr>\n",
       "    <tr>\n",
       "      <th>32313</th>\n",
       "      <td>Female</td>\n",
       "      <td>Has relevent experience</td>\n",
       "      <td>no_enrollment</td>\n",
       "      <td>Graduate</td>\n",
       "      <td>STEM</td>\n",
       "      <td>10</td>\n",
       "      <td>100-500</td>\n",
       "      <td>Public Sector</td>\n",
       "    </tr>\n",
       "    <tr>\n",
       "      <th>29754</th>\n",
       "      <td>Female</td>\n",
       "      <td>Has relevent experience</td>\n",
       "      <td>no_enrollment</td>\n",
       "      <td>Graduate</td>\n",
       "      <td>Humanities</td>\n",
       "      <td>7</td>\n",
       "      <td>10/49</td>\n",
       "      <td>Funded Startup</td>\n",
       "    </tr>\n",
       "  </tbody>\n",
       "</table>\n",
       "<p>1610 rows × 8 columns</p>\n",
       "</div>"
      ],
      "text/plain": [
       "             gender      relevent_experience enrolled_university  \\\n",
       "enrollee_id                                                        \n",
       "21102          Male  Has relevent experience       no_enrollment   \n",
       "8428           Male   No relevent experience       no_enrollment   \n",
       "4483           Male  Has relevent experience       no_enrollment   \n",
       "6990           Male  Has relevent experience       no_enrollment   \n",
       "20599          Male  Has relevent experience       no_enrollment   \n",
       "...             ...                      ...                 ...   \n",
       "33060        Female   No relevent experience    Part time course   \n",
       "26961        Female  Has relevent experience       no_enrollment   \n",
       "1281         Female  Has relevent experience       no_enrollment   \n",
       "32313        Female  Has relevent experience       no_enrollment   \n",
       "29754        Female  Has relevent experience       no_enrollment   \n",
       "\n",
       "            education_level major_discipline experience company_size  \\\n",
       "enrollee_id                                                            \n",
       "21102              Graduate             STEM          3          <10   \n",
       "8428               Graduate       Humanities          3        50-99   \n",
       "4483               Graduate             STEM         14          <10   \n",
       "6990               Graduate             STEM          8        50-99   \n",
       "20599               Masters             STEM          8    1000-4999   \n",
       "...                     ...              ...        ...          ...   \n",
       "33060              Graduate            Other          3        10/49   \n",
       "26961              Graduate             STEM          6      100-500   \n",
       "1281                Masters             STEM          6        10/49   \n",
       "32313              Graduate             STEM         10      100-500   \n",
       "29754              Graduate       Humanities          7        10/49   \n",
       "\n",
       "                    company_type  \n",
       "enrollee_id                       \n",
       "21102                    Pvt Ltd  \n",
       "8428                     Pvt Ltd  \n",
       "4483                     Pvt Ltd  \n",
       "6990                     Pvt Ltd  \n",
       "20599                    Pvt Ltd  \n",
       "...                          ...  \n",
       "33060             Funded Startup  \n",
       "26961                    Pvt Ltd  \n",
       "1281         Early Stage Startup  \n",
       "32313              Public Sector  \n",
       "29754             Funded Startup  \n",
       "\n",
       "[1610 rows x 8 columns]"
      ]
     },
     "execution_count": 5,
     "metadata": {},
     "output_type": "execute_result"
    }
   ],
   "source": [
    "X.loc[(X['experience'] == '>20'), 'experience'] = 21\n",
    "X.loc[(X['experience'] == '<1'), 'experience'] = 0\n",
    "\n",
    "X"
   ]
  },
  {
   "cell_type": "markdown",
   "metadata": {},
   "source": [
    "Encode data into binary for model"
   ]
  },
  {
   "cell_type": "code",
   "execution_count": 6,
   "metadata": {},
   "outputs": [
    {
     "name": "stdout",
     "output_type": "stream",
     "text": [
      "<class 'pandas.core.frame.DataFrame'>\n",
      "Int64Index: 1610 entries, 21102 to 29754\n",
      "Data columns (total 31 columns):\n",
      " #   Column                                       Non-Null Count  Dtype \n",
      "---  ------                                       --------------  ----- \n",
      " 0   experience                                   1610 non-null   object\n",
      " 1   gender_Female                                1610 non-null   uint8 \n",
      " 2   gender_Male                                  1610 non-null   uint8 \n",
      " 3   relevent_experience_Has relevent experience  1610 non-null   uint8 \n",
      " 4   relevent_experience_No relevent experience   1610 non-null   uint8 \n",
      " 5   enrolled_university_Full time course         1610 non-null   uint8 \n",
      " 6   enrolled_university_Part time course         1610 non-null   uint8 \n",
      " 7   enrolled_university_no_enrollment            1610 non-null   uint8 \n",
      " 8   education_level_Graduate                     1610 non-null   uint8 \n",
      " 9   education_level_Masters                      1610 non-null   uint8 \n",
      " 10  education_level_Phd                          1610 non-null   uint8 \n",
      " 11  major_discipline_Arts                        1610 non-null   uint8 \n",
      " 12  major_discipline_Business Degree             1610 non-null   uint8 \n",
      " 13  major_discipline_Humanities                  1610 non-null   uint8 \n",
      " 14  major_discipline_No Major                    1610 non-null   uint8 \n",
      " 15  major_discipline_Other                       1610 non-null   uint8 \n",
      " 16  major_discipline_STEM                        1610 non-null   uint8 \n",
      " 17  company_size_10/49                           1610 non-null   uint8 \n",
      " 18  company_size_100-500                         1610 non-null   uint8 \n",
      " 19  company_size_1000-4999                       1610 non-null   uint8 \n",
      " 20  company_size_10000+                          1610 non-null   uint8 \n",
      " 21  company_size_50-99                           1610 non-null   uint8 \n",
      " 22  company_size_500-999                         1610 non-null   uint8 \n",
      " 23  company_size_5000-9999                       1610 non-null   uint8 \n",
      " 24  company_size_<10                             1610 non-null   uint8 \n",
      " 25  company_type_Early Stage Startup             1610 non-null   uint8 \n",
      " 26  company_type_Funded Startup                  1610 non-null   uint8 \n",
      " 27  company_type_NGO                             1610 non-null   uint8 \n",
      " 28  company_type_Other                           1610 non-null   uint8 \n",
      " 29  company_type_Public Sector                   1610 non-null   uint8 \n",
      " 30  company_type_Pvt Ltd                         1610 non-null   uint8 \n",
      "dtypes: object(1), uint8(30)\n",
      "memory usage: 72.3+ KB\n"
     ]
    }
   ],
   "source": [
    "# Binary encoding string data with Pandas get_dummies\n",
    "train_data = X.copy()\n",
    "\n",
    "X_encoded = pd.get_dummies(train_data, columns=[\"gender\", \"relevent_experience\", \"enrolled_university\", \"education_level\", \"major_discipline\", \"company_size\", \"company_type\"])\n",
    "\n",
    "# pd.set_option('display.max_columns', None)\n",
    "X_encoded.info()"
   ]
  },
  {
   "cell_type": "code",
   "execution_count": 7,
   "metadata": {},
   "outputs": [
    {
     "data": {
      "text/html": [
       "<div>\n",
       "<style scoped>\n",
       "    .dataframe tbody tr th:only-of-type {\n",
       "        vertical-align: middle;\n",
       "    }\n",
       "\n",
       "    .dataframe tbody tr th {\n",
       "        vertical-align: top;\n",
       "    }\n",
       "\n",
       "    .dataframe thead th {\n",
       "        text-align: right;\n",
       "    }\n",
       "</style>\n",
       "<table border=\"1\" class=\"dataframe\">\n",
       "  <thead>\n",
       "    <tr style=\"text-align: right;\">\n",
       "      <th></th>\n",
       "      <th>experience</th>\n",
       "      <th>gender_Female</th>\n",
       "      <th>gender_Male</th>\n",
       "      <th>relevent_experience_Has relevent experience</th>\n",
       "      <th>relevent_experience_No relevent experience</th>\n",
       "      <th>enrolled_university_Full time course</th>\n",
       "      <th>enrolled_university_Part time course</th>\n",
       "      <th>enrolled_university_no_enrollment</th>\n",
       "      <th>education_level_Graduate</th>\n",
       "      <th>education_level_Masters</th>\n",
       "      <th>...</th>\n",
       "      <th>company_size_50-99</th>\n",
       "      <th>company_size_500-999</th>\n",
       "      <th>company_size_5000-9999</th>\n",
       "      <th>company_size_&lt;10</th>\n",
       "      <th>company_type_Early Stage Startup</th>\n",
       "      <th>company_type_Funded Startup</th>\n",
       "      <th>company_type_NGO</th>\n",
       "      <th>company_type_Other</th>\n",
       "      <th>company_type_Public Sector</th>\n",
       "      <th>company_type_Pvt Ltd</th>\n",
       "    </tr>\n",
       "    <tr>\n",
       "      <th>enrollee_id</th>\n",
       "      <th></th>\n",
       "      <th></th>\n",
       "      <th></th>\n",
       "      <th></th>\n",
       "      <th></th>\n",
       "      <th></th>\n",
       "      <th></th>\n",
       "      <th></th>\n",
       "      <th></th>\n",
       "      <th></th>\n",
       "      <th></th>\n",
       "      <th></th>\n",
       "      <th></th>\n",
       "      <th></th>\n",
       "      <th></th>\n",
       "      <th></th>\n",
       "      <th></th>\n",
       "      <th></th>\n",
       "      <th></th>\n",
       "      <th></th>\n",
       "      <th></th>\n",
       "    </tr>\n",
       "  </thead>\n",
       "  <tbody>\n",
       "    <tr>\n",
       "      <th>21102</th>\n",
       "      <td>3</td>\n",
       "      <td>0</td>\n",
       "      <td>1</td>\n",
       "      <td>1</td>\n",
       "      <td>0</td>\n",
       "      <td>0</td>\n",
       "      <td>0</td>\n",
       "      <td>1</td>\n",
       "      <td>1</td>\n",
       "      <td>0</td>\n",
       "      <td>...</td>\n",
       "      <td>0</td>\n",
       "      <td>0</td>\n",
       "      <td>0</td>\n",
       "      <td>1</td>\n",
       "      <td>0</td>\n",
       "      <td>0</td>\n",
       "      <td>0</td>\n",
       "      <td>0</td>\n",
       "      <td>0</td>\n",
       "      <td>1</td>\n",
       "    </tr>\n",
       "    <tr>\n",
       "      <th>8428</th>\n",
       "      <td>3</td>\n",
       "      <td>0</td>\n",
       "      <td>1</td>\n",
       "      <td>0</td>\n",
       "      <td>1</td>\n",
       "      <td>0</td>\n",
       "      <td>0</td>\n",
       "      <td>1</td>\n",
       "      <td>1</td>\n",
       "      <td>0</td>\n",
       "      <td>...</td>\n",
       "      <td>1</td>\n",
       "      <td>0</td>\n",
       "      <td>0</td>\n",
       "      <td>0</td>\n",
       "      <td>0</td>\n",
       "      <td>0</td>\n",
       "      <td>0</td>\n",
       "      <td>0</td>\n",
       "      <td>0</td>\n",
       "      <td>1</td>\n",
       "    </tr>\n",
       "    <tr>\n",
       "      <th>4483</th>\n",
       "      <td>14</td>\n",
       "      <td>0</td>\n",
       "      <td>1</td>\n",
       "      <td>1</td>\n",
       "      <td>0</td>\n",
       "      <td>0</td>\n",
       "      <td>0</td>\n",
       "      <td>1</td>\n",
       "      <td>1</td>\n",
       "      <td>0</td>\n",
       "      <td>...</td>\n",
       "      <td>0</td>\n",
       "      <td>0</td>\n",
       "      <td>0</td>\n",
       "      <td>1</td>\n",
       "      <td>0</td>\n",
       "      <td>0</td>\n",
       "      <td>0</td>\n",
       "      <td>0</td>\n",
       "      <td>0</td>\n",
       "      <td>1</td>\n",
       "    </tr>\n",
       "    <tr>\n",
       "      <th>6990</th>\n",
       "      <td>8</td>\n",
       "      <td>0</td>\n",
       "      <td>1</td>\n",
       "      <td>1</td>\n",
       "      <td>0</td>\n",
       "      <td>0</td>\n",
       "      <td>0</td>\n",
       "      <td>1</td>\n",
       "      <td>1</td>\n",
       "      <td>0</td>\n",
       "      <td>...</td>\n",
       "      <td>1</td>\n",
       "      <td>0</td>\n",
       "      <td>0</td>\n",
       "      <td>0</td>\n",
       "      <td>0</td>\n",
       "      <td>0</td>\n",
       "      <td>0</td>\n",
       "      <td>0</td>\n",
       "      <td>0</td>\n",
       "      <td>1</td>\n",
       "    </tr>\n",
       "    <tr>\n",
       "      <th>20599</th>\n",
       "      <td>8</td>\n",
       "      <td>0</td>\n",
       "      <td>1</td>\n",
       "      <td>1</td>\n",
       "      <td>0</td>\n",
       "      <td>0</td>\n",
       "      <td>0</td>\n",
       "      <td>1</td>\n",
       "      <td>0</td>\n",
       "      <td>1</td>\n",
       "      <td>...</td>\n",
       "      <td>0</td>\n",
       "      <td>0</td>\n",
       "      <td>0</td>\n",
       "      <td>0</td>\n",
       "      <td>0</td>\n",
       "      <td>0</td>\n",
       "      <td>0</td>\n",
       "      <td>0</td>\n",
       "      <td>0</td>\n",
       "      <td>1</td>\n",
       "    </tr>\n",
       "    <tr>\n",
       "      <th>...</th>\n",
       "      <td>...</td>\n",
       "      <td>...</td>\n",
       "      <td>...</td>\n",
       "      <td>...</td>\n",
       "      <td>...</td>\n",
       "      <td>...</td>\n",
       "      <td>...</td>\n",
       "      <td>...</td>\n",
       "      <td>...</td>\n",
       "      <td>...</td>\n",
       "      <td>...</td>\n",
       "      <td>...</td>\n",
       "      <td>...</td>\n",
       "      <td>...</td>\n",
       "      <td>...</td>\n",
       "      <td>...</td>\n",
       "      <td>...</td>\n",
       "      <td>...</td>\n",
       "      <td>...</td>\n",
       "      <td>...</td>\n",
       "      <td>...</td>\n",
       "    </tr>\n",
       "    <tr>\n",
       "      <th>33060</th>\n",
       "      <td>3</td>\n",
       "      <td>1</td>\n",
       "      <td>0</td>\n",
       "      <td>0</td>\n",
       "      <td>1</td>\n",
       "      <td>0</td>\n",
       "      <td>1</td>\n",
       "      <td>0</td>\n",
       "      <td>1</td>\n",
       "      <td>0</td>\n",
       "      <td>...</td>\n",
       "      <td>0</td>\n",
       "      <td>0</td>\n",
       "      <td>0</td>\n",
       "      <td>0</td>\n",
       "      <td>0</td>\n",
       "      <td>1</td>\n",
       "      <td>0</td>\n",
       "      <td>0</td>\n",
       "      <td>0</td>\n",
       "      <td>0</td>\n",
       "    </tr>\n",
       "    <tr>\n",
       "      <th>26961</th>\n",
       "      <td>6</td>\n",
       "      <td>1</td>\n",
       "      <td>0</td>\n",
       "      <td>1</td>\n",
       "      <td>0</td>\n",
       "      <td>0</td>\n",
       "      <td>0</td>\n",
       "      <td>1</td>\n",
       "      <td>1</td>\n",
       "      <td>0</td>\n",
       "      <td>...</td>\n",
       "      <td>0</td>\n",
       "      <td>0</td>\n",
       "      <td>0</td>\n",
       "      <td>0</td>\n",
       "      <td>0</td>\n",
       "      <td>0</td>\n",
       "      <td>0</td>\n",
       "      <td>0</td>\n",
       "      <td>0</td>\n",
       "      <td>1</td>\n",
       "    </tr>\n",
       "    <tr>\n",
       "      <th>1281</th>\n",
       "      <td>6</td>\n",
       "      <td>1</td>\n",
       "      <td>0</td>\n",
       "      <td>1</td>\n",
       "      <td>0</td>\n",
       "      <td>0</td>\n",
       "      <td>0</td>\n",
       "      <td>1</td>\n",
       "      <td>0</td>\n",
       "      <td>1</td>\n",
       "      <td>...</td>\n",
       "      <td>0</td>\n",
       "      <td>0</td>\n",
       "      <td>0</td>\n",
       "      <td>0</td>\n",
       "      <td>1</td>\n",
       "      <td>0</td>\n",
       "      <td>0</td>\n",
       "      <td>0</td>\n",
       "      <td>0</td>\n",
       "      <td>0</td>\n",
       "    </tr>\n",
       "    <tr>\n",
       "      <th>32313</th>\n",
       "      <td>10</td>\n",
       "      <td>1</td>\n",
       "      <td>0</td>\n",
       "      <td>1</td>\n",
       "      <td>0</td>\n",
       "      <td>0</td>\n",
       "      <td>0</td>\n",
       "      <td>1</td>\n",
       "      <td>1</td>\n",
       "      <td>0</td>\n",
       "      <td>...</td>\n",
       "      <td>0</td>\n",
       "      <td>0</td>\n",
       "      <td>0</td>\n",
       "      <td>0</td>\n",
       "      <td>0</td>\n",
       "      <td>0</td>\n",
       "      <td>0</td>\n",
       "      <td>0</td>\n",
       "      <td>1</td>\n",
       "      <td>0</td>\n",
       "    </tr>\n",
       "    <tr>\n",
       "      <th>29754</th>\n",
       "      <td>7</td>\n",
       "      <td>1</td>\n",
       "      <td>0</td>\n",
       "      <td>1</td>\n",
       "      <td>0</td>\n",
       "      <td>0</td>\n",
       "      <td>0</td>\n",
       "      <td>1</td>\n",
       "      <td>1</td>\n",
       "      <td>0</td>\n",
       "      <td>...</td>\n",
       "      <td>0</td>\n",
       "      <td>0</td>\n",
       "      <td>0</td>\n",
       "      <td>0</td>\n",
       "      <td>0</td>\n",
       "      <td>1</td>\n",
       "      <td>0</td>\n",
       "      <td>0</td>\n",
       "      <td>0</td>\n",
       "      <td>0</td>\n",
       "    </tr>\n",
       "  </tbody>\n",
       "</table>\n",
       "<p>1610 rows × 31 columns</p>\n",
       "</div>"
      ],
      "text/plain": [
       "            experience  gender_Female  gender_Male  \\\n",
       "enrollee_id                                          \n",
       "21102                3              0            1   \n",
       "8428                 3              0            1   \n",
       "4483                14              0            1   \n",
       "6990                 8              0            1   \n",
       "20599                8              0            1   \n",
       "...                ...            ...          ...   \n",
       "33060                3              1            0   \n",
       "26961                6              1            0   \n",
       "1281                 6              1            0   \n",
       "32313               10              1            0   \n",
       "29754                7              1            0   \n",
       "\n",
       "             relevent_experience_Has relevent experience  \\\n",
       "enrollee_id                                                \n",
       "21102                                                  1   \n",
       "8428                                                   0   \n",
       "4483                                                   1   \n",
       "6990                                                   1   \n",
       "20599                                                  1   \n",
       "...                                                  ...   \n",
       "33060                                                  0   \n",
       "26961                                                  1   \n",
       "1281                                                   1   \n",
       "32313                                                  1   \n",
       "29754                                                  1   \n",
       "\n",
       "             relevent_experience_No relevent experience  \\\n",
       "enrollee_id                                               \n",
       "21102                                                 0   \n",
       "8428                                                  1   \n",
       "4483                                                  0   \n",
       "6990                                                  0   \n",
       "20599                                                 0   \n",
       "...                                                 ...   \n",
       "33060                                                 1   \n",
       "26961                                                 0   \n",
       "1281                                                  0   \n",
       "32313                                                 0   \n",
       "29754                                                 0   \n",
       "\n",
       "             enrolled_university_Full time course  \\\n",
       "enrollee_id                                         \n",
       "21102                                           0   \n",
       "8428                                            0   \n",
       "4483                                            0   \n",
       "6990                                            0   \n",
       "20599                                           0   \n",
       "...                                           ...   \n",
       "33060                                           0   \n",
       "26961                                           0   \n",
       "1281                                            0   \n",
       "32313                                           0   \n",
       "29754                                           0   \n",
       "\n",
       "             enrolled_university_Part time course  \\\n",
       "enrollee_id                                         \n",
       "21102                                           0   \n",
       "8428                                            0   \n",
       "4483                                            0   \n",
       "6990                                            0   \n",
       "20599                                           0   \n",
       "...                                           ...   \n",
       "33060                                           1   \n",
       "26961                                           0   \n",
       "1281                                            0   \n",
       "32313                                           0   \n",
       "29754                                           0   \n",
       "\n",
       "             enrolled_university_no_enrollment  education_level_Graduate  \\\n",
       "enrollee_id                                                                \n",
       "21102                                        1                         1   \n",
       "8428                                         1                         1   \n",
       "4483                                         1                         1   \n",
       "6990                                         1                         1   \n",
       "20599                                        1                         0   \n",
       "...                                        ...                       ...   \n",
       "33060                                        0                         1   \n",
       "26961                                        1                         1   \n",
       "1281                                         1                         0   \n",
       "32313                                        1                         1   \n",
       "29754                                        1                         1   \n",
       "\n",
       "             education_level_Masters  ...  company_size_50-99  \\\n",
       "enrollee_id                           ...                       \n",
       "21102                              0  ...                   0   \n",
       "8428                               0  ...                   1   \n",
       "4483                               0  ...                   0   \n",
       "6990                               0  ...                   1   \n",
       "20599                              1  ...                   0   \n",
       "...                              ...  ...                 ...   \n",
       "33060                              0  ...                   0   \n",
       "26961                              0  ...                   0   \n",
       "1281                               1  ...                   0   \n",
       "32313                              0  ...                   0   \n",
       "29754                              0  ...                   0   \n",
       "\n",
       "             company_size_500-999  company_size_5000-9999  company_size_<10  \\\n",
       "enrollee_id                                                                   \n",
       "21102                           0                       0                 1   \n",
       "8428                            0                       0                 0   \n",
       "4483                            0                       0                 1   \n",
       "6990                            0                       0                 0   \n",
       "20599                           0                       0                 0   \n",
       "...                           ...                     ...               ...   \n",
       "33060                           0                       0                 0   \n",
       "26961                           0                       0                 0   \n",
       "1281                            0                       0                 0   \n",
       "32313                           0                       0                 0   \n",
       "29754                           0                       0                 0   \n",
       "\n",
       "             company_type_Early Stage Startup  company_type_Funded Startup  \\\n",
       "enrollee_id                                                                  \n",
       "21102                                       0                            0   \n",
       "8428                                        0                            0   \n",
       "4483                                        0                            0   \n",
       "6990                                        0                            0   \n",
       "20599                                       0                            0   \n",
       "...                                       ...                          ...   \n",
       "33060                                       0                            1   \n",
       "26961                                       0                            0   \n",
       "1281                                        1                            0   \n",
       "32313                                       0                            0   \n",
       "29754                                       0                            1   \n",
       "\n",
       "             company_type_NGO  company_type_Other  company_type_Public Sector  \\\n",
       "enrollee_id                                                                     \n",
       "21102                       0                   0                           0   \n",
       "8428                        0                   0                           0   \n",
       "4483                        0                   0                           0   \n",
       "6990                        0                   0                           0   \n",
       "20599                       0                   0                           0   \n",
       "...                       ...                 ...                         ...   \n",
       "33060                       0                   0                           0   \n",
       "26961                       0                   0                           0   \n",
       "1281                        0                   0                           0   \n",
       "32313                       0                   0                           1   \n",
       "29754                       0                   0                           0   \n",
       "\n",
       "             company_type_Pvt Ltd  \n",
       "enrollee_id                        \n",
       "21102                           1  \n",
       "8428                            1  \n",
       "4483                            1  \n",
       "6990                            1  \n",
       "20599                           1  \n",
       "...                           ...  \n",
       "33060                           0  \n",
       "26961                           1  \n",
       "1281                            0  \n",
       "32313                           0  \n",
       "29754                           0  \n",
       "\n",
       "[1610 rows x 31 columns]"
      ]
     },
     "execution_count": 7,
     "metadata": {},
     "output_type": "execute_result"
    }
   ],
   "source": [
    "X_encoded"
   ]
  },
  {
   "cell_type": "markdown",
   "metadata": {
    "slideshow": {
     "slide_type": "subslide"
    }
   },
   "source": [
    "Split our data into training and testing"
   ]
  },
  {
   "cell_type": "code",
   "execution_count": 8,
   "metadata": {
    "jupyter": {
     "outputs_hidden": true
    },
    "nbgrader": {
     "grade": false,
     "grade_id": "cell-711a82d9b32c83ff",
     "locked": false,
     "schema_version": 1,
     "solution": true
    },
    "slideshow": {
     "slide_type": "fragment"
    }
   },
   "outputs": [],
   "source": [
    "from sklearn.model_selection import train_test_split\n",
    "X_train, X_test, y_train, y_test = train_test_split(X_encoded, y, random_state=1)"
   ]
  },
  {
   "cell_type": "markdown",
   "metadata": {
    "slideshow": {
     "slide_type": "subslide"
    }
   },
   "source": [
    "# Logistic Regression Model"
   ]
  },
  {
   "cell_type": "code",
   "execution_count": 9,
   "metadata": {
    "nbgrader": {
     "grade": false,
     "grade_id": "cell-b83ce1d2dcf17fbd",
     "locked": false,
     "schema_version": 1,
     "solution": true
    },
    "slideshow": {
     "slide_type": "fragment"
    }
   },
   "outputs": [
    {
     "data": {
      "text/plain": [
       "LogisticRegression()"
      ]
     },
     "execution_count": 9,
     "metadata": {},
     "output_type": "execute_result"
    }
   ],
   "source": [
    "from sklearn.linear_model import LogisticRegression\n",
    "import joblib\n",
    "\n",
    "classifier = LogisticRegression()\n",
    "classifier"
   ]
  },
  {
   "cell_type": "code",
   "execution_count": 10,
   "metadata": {},
   "outputs": [],
   "source": [
    "# # Scale & Normalization of data with StandardScaler\n",
    "# from sklearn.preprocessing import StandardScaler\n",
    "# X_scaler = StandardScaler().fit(X_train_encoded)\n",
    "# y_scaler = StandardScaler().fit(y_train)"
   ]
  },
  {
   "cell_type": "code",
   "execution_count": 11,
   "metadata": {},
   "outputs": [],
   "source": [
    "# # Transform data with scaler\n",
    "# X_train_scaled = X_scaler.transform(X_train_encoded)\n",
    "# X_test_scaled = X_scaler.transform(X_test_encoded)\n",
    "# y_train_scaled = y_scaler.transform(y_train)\n",
    "# y_test_scaled = y_scaler.transform(y_test)"
   ]
  },
  {
   "cell_type": "markdown",
   "metadata": {
    "slideshow": {
     "slide_type": "subslide"
    }
   },
   "source": [
    "Fit (train) or model using the training data"
   ]
  },
  {
   "cell_type": "code",
   "execution_count": 12,
   "metadata": {
    "nbgrader": {
     "grade": false,
     "grade_id": "cell-fa6356c0ca7e4ead",
     "locked": false,
     "schema_version": 1,
     "solution": true
    },
    "slideshow": {
     "slide_type": "fragment"
    }
   },
   "outputs": [
    {
     "data": {
      "text/plain": [
       "LogisticRegression()"
      ]
     },
     "execution_count": 12,
     "metadata": {},
     "output_type": "execute_result"
    }
   ],
   "source": [
    "# classifier.fit(X_train_scaled, y_train_scaled)\n",
    "\n",
    "## OR the non-scaled data?\n",
    "classifier.fit(X_train, y_train)\n",
    "\n",
    "\n"
   ]
  },
  {
   "cell_type": "markdown",
   "metadata": {
    "slideshow": {
     "slide_type": "subslide"
    }
   },
   "source": [
    "Validate the model using the test data"
   ]
  },
  {
   "cell_type": "code",
   "execution_count": 13,
   "metadata": {
    "nbgrader": {
     "grade": false,
     "grade_id": "cell-b00f331fda900e0a",
     "locked": false,
     "schema_version": 1,
     "solution": true
    },
    "slideshow": {
     "slide_type": "fragment"
    }
   },
   "outputs": [
    {
     "name": "stdout",
     "output_type": "stream",
     "text": [
      "Training Data Score: 0.8251864125932062\n",
      "Testing Data Score: 0.8486352357320099\n"
     ]
    }
   ],
   "source": [
    "print(f\"Training Data Score: {classifier.score(X_train, y_train)}\")\n",
    "print(f\"Testing Data Score: {classifier.score(X_test, y_test)}\")\n",
    "\n",
    "## OR score using scaled data\n",
    "# print(f\"Training Data Score: {classifier.score(X_train_scaled, y_train_scaled)}\")\n",
    "# print(f\"Testing Data Score: {classifier.score(X_test_scaled, y_test)}\")\n",
    "\n",
    "# fIX ERROR: NEED TO CRUD AND MERGE submission.csv DATA WITH test_balanced.csv DATA TO GET THE Y_TEST [\"target\"] column!!"
   ]
  },
  {
   "cell_type": "markdown",
   "metadata": {
    "slideshow": {
     "slide_type": "subslide"
    }
   },
   "source": [
    "Make predictions"
   ]
  },
  {
   "cell_type": "code",
   "execution_count": 14,
   "metadata": {
    "nbgrader": {
     "grade": false,
     "grade_id": "cell-f97eb3e97245187b",
     "locked": false,
     "schema_version": 1,
     "solution": true
    },
    "slideshow": {
     "slide_type": "fragment"
    }
   },
   "outputs": [
    {
     "name": "stdout",
     "output_type": "stream",
     "text": [
      "First 10 Predictions:   [0. 0. 0. 0. 0. 0. 0. 0. 0. 0.]\n",
      "First 10 Actual targets: [0.0, 1.0, 0.0, 0.0, 0.0, 0.0, 0.0, 0.0, 0.0, 0.0]\n"
     ]
    }
   ],
   "source": [
    "LR_predictions = classifier.predict(X_test)\n",
    "print(f\"First 10 Predictions:   {LR_predictions[:10]}\")\n",
    "print(f\"First 10 Actual targets: {y_test[:10].tolist()}\")"
   ]
  },
  {
   "cell_type": "code",
   "execution_count": 15,
   "metadata": {},
   "outputs": [
    {
     "data": {
      "text/html": [
       "<div>\n",
       "<style scoped>\n",
       "    .dataframe tbody tr th:only-of-type {\n",
       "        vertical-align: middle;\n",
       "    }\n",
       "\n",
       "    .dataframe tbody tr th {\n",
       "        vertical-align: top;\n",
       "    }\n",
       "\n",
       "    .dataframe thead th {\n",
       "        text-align: right;\n",
       "    }\n",
       "</style>\n",
       "<table border=\"1\" class=\"dataframe\">\n",
       "  <thead>\n",
       "    <tr style=\"text-align: right;\">\n",
       "      <th></th>\n",
       "      <th>Prediction</th>\n",
       "      <th>Actual</th>\n",
       "    </tr>\n",
       "  </thead>\n",
       "  <tbody>\n",
       "    <tr>\n",
       "      <th>0</th>\n",
       "      <td>0.0</td>\n",
       "      <td>0.0</td>\n",
       "    </tr>\n",
       "    <tr>\n",
       "      <th>1</th>\n",
       "      <td>0.0</td>\n",
       "      <td>1.0</td>\n",
       "    </tr>\n",
       "    <tr>\n",
       "      <th>2</th>\n",
       "      <td>0.0</td>\n",
       "      <td>0.0</td>\n",
       "    </tr>\n",
       "    <tr>\n",
       "      <th>3</th>\n",
       "      <td>0.0</td>\n",
       "      <td>0.0</td>\n",
       "    </tr>\n",
       "    <tr>\n",
       "      <th>4</th>\n",
       "      <td>0.0</td>\n",
       "      <td>0.0</td>\n",
       "    </tr>\n",
       "    <tr>\n",
       "      <th>...</th>\n",
       "      <td>...</td>\n",
       "      <td>...</td>\n",
       "    </tr>\n",
       "    <tr>\n",
       "      <th>398</th>\n",
       "      <td>0.0</td>\n",
       "      <td>0.0</td>\n",
       "    </tr>\n",
       "    <tr>\n",
       "      <th>399</th>\n",
       "      <td>0.0</td>\n",
       "      <td>0.0</td>\n",
       "    </tr>\n",
       "    <tr>\n",
       "      <th>400</th>\n",
       "      <td>0.0</td>\n",
       "      <td>0.0</td>\n",
       "    </tr>\n",
       "    <tr>\n",
       "      <th>401</th>\n",
       "      <td>0.0</td>\n",
       "      <td>0.0</td>\n",
       "    </tr>\n",
       "    <tr>\n",
       "      <th>402</th>\n",
       "      <td>0.0</td>\n",
       "      <td>0.0</td>\n",
       "    </tr>\n",
       "  </tbody>\n",
       "</table>\n",
       "<p>403 rows × 2 columns</p>\n",
       "</div>"
      ],
      "text/plain": [
       "     Prediction  Actual\n",
       "0           0.0     0.0\n",
       "1           0.0     1.0\n",
       "2           0.0     0.0\n",
       "3           0.0     0.0\n",
       "4           0.0     0.0\n",
       "..          ...     ...\n",
       "398         0.0     0.0\n",
       "399         0.0     0.0\n",
       "400         0.0     0.0\n",
       "401         0.0     0.0\n",
       "402         0.0     0.0\n",
       "\n",
       "[403 rows x 2 columns]"
      ]
     },
     "execution_count": 15,
     "metadata": {},
     "output_type": "execute_result"
    }
   ],
   "source": [
    "LR_results = pd.DataFrame({\"Prediction\": LR_predictions, \"Actual\": y_test}).reset_index(drop=True)\n",
    "LR_results"
   ]
  },
  {
   "cell_type": "code",
   "execution_count": 16,
   "metadata": {},
   "outputs": [
    {
     "data": {
      "text/plain": [
       "['HR_LRmodel_trained.h5']"
      ]
     },
     "execution_count": 16,
     "metadata": {},
     "output_type": "execute_result"
    }
   ],
   "source": [
    "# Save the model to disk\n",
    "joblib.dump(classifier, \"HR_LRmodel_trained.h5\")"
   ]
  },
  {
   "cell_type": "code",
   "execution_count": 17,
   "metadata": {},
   "outputs": [
    {
     "data": {
      "text/plain": [
       "0.8486352357320099"
      ]
     },
     "execution_count": 17,
     "metadata": {},
     "output_type": "execute_result"
    }
   ],
   "source": [
    "# load model\n",
    "model = joblib.load(\"HR_LRmodel_trained.h5\")\n",
    "result_test = model.score(X_test, y_test)\n",
    "result_test"
   ]
  },
  {
   "cell_type": "markdown",
   "metadata": {},
   "source": [
    "# Random Forest"
   ]
  },
  {
   "cell_type": "code",
   "execution_count": 18,
   "metadata": {},
   "outputs": [
    {
     "name": "stdout",
     "output_type": "stream",
     "text": [
      "Training Data Score: 0.9362054681027341\n",
      "Testing Data Score: 0.794044665012407\n"
     ]
    }
   ],
   "source": [
    "from sklearn.ensemble import RandomForestClassifier\n",
    "rf = RandomForestClassifier(n_estimators=200)\n",
    "rf = rf.fit(X_train, y_train)\n",
    "# rf.score(X_test, y_test)\n",
    "\n",
    "print(f\"Training Data Score: {rf.score(X_train, y_train)}\")\n",
    "print(f\"Testing Data Score: {rf.score(X_test, y_test)}\")"
   ]
  },
  {
   "cell_type": "code",
   "execution_count": 19,
   "metadata": {},
   "outputs": [
    {
     "name": "stdout",
     "output_type": "stream",
     "text": [
      "First 10 Predictions:   [0. 0. 0. 0. 0. 0. 0. 0. 0. 0. 0. 0. 0. 0. 0. 0. 0. 0. 0. 0. 0. 0. 0. 0.\n",
      " 0. 0. 0. 0. 0. 0. 0. 1. 0. 0. 0. 0. 0. 0. 0. 0. 1. 0. 0. 0. 0. 0. 0. 0.\n",
      " 0. 0.]\n",
      "First 10 Actual targets: [0.0, 1.0, 0.0, 0.0, 0.0, 0.0, 0.0, 0.0, 0.0, 0.0, 0.0, 0.0, 0.0, 0.0, 0.0, 0.0, 0.0, 0.0, 0.0, 0.0, 0.0, 0.0, 0.0, 0.0, 0.0, 0.0, 0.0, 0.0, 0.0, 0.0, 0.0, 0.0, 0.0, 0.0, 0.0, 0.0, 0.0, 0.0, 1.0, 0.0, 0.0, 0.0, 0.0, 0.0, 0.0, 0.0, 1.0, 1.0, 0.0, 0.0]\n"
     ]
    }
   ],
   "source": [
    "RF_predictions = rf.predict(X_test)\n",
    "print(f\"First 10 Predictions:   {RF_predictions[:50]}\")\n",
    "print(f\"First 10 Actual targets: {y_test[:50].tolist()}\")"
   ]
  },
  {
   "cell_type": "code",
   "execution_count": 20,
   "metadata": {},
   "outputs": [
    {
     "data": {
      "text/html": [
       "<div>\n",
       "<style scoped>\n",
       "    .dataframe tbody tr th:only-of-type {\n",
       "        vertical-align: middle;\n",
       "    }\n",
       "\n",
       "    .dataframe tbody tr th {\n",
       "        vertical-align: top;\n",
       "    }\n",
       "\n",
       "    .dataframe thead th {\n",
       "        text-align: right;\n",
       "    }\n",
       "</style>\n",
       "<table border=\"1\" class=\"dataframe\">\n",
       "  <thead>\n",
       "    <tr style=\"text-align: right;\">\n",
       "      <th></th>\n",
       "      <th>Prediction</th>\n",
       "      <th>Actual</th>\n",
       "    </tr>\n",
       "  </thead>\n",
       "  <tbody>\n",
       "    <tr>\n",
       "      <th>0</th>\n",
       "      <td>0.0</td>\n",
       "      <td>0.0</td>\n",
       "    </tr>\n",
       "    <tr>\n",
       "      <th>1</th>\n",
       "      <td>0.0</td>\n",
       "      <td>1.0</td>\n",
       "    </tr>\n",
       "    <tr>\n",
       "      <th>2</th>\n",
       "      <td>0.0</td>\n",
       "      <td>0.0</td>\n",
       "    </tr>\n",
       "    <tr>\n",
       "      <th>3</th>\n",
       "      <td>0.0</td>\n",
       "      <td>0.0</td>\n",
       "    </tr>\n",
       "    <tr>\n",
       "      <th>4</th>\n",
       "      <td>0.0</td>\n",
       "      <td>0.0</td>\n",
       "    </tr>\n",
       "    <tr>\n",
       "      <th>...</th>\n",
       "      <td>...</td>\n",
       "      <td>...</td>\n",
       "    </tr>\n",
       "    <tr>\n",
       "      <th>398</th>\n",
       "      <td>0.0</td>\n",
       "      <td>0.0</td>\n",
       "    </tr>\n",
       "    <tr>\n",
       "      <th>399</th>\n",
       "      <td>0.0</td>\n",
       "      <td>0.0</td>\n",
       "    </tr>\n",
       "    <tr>\n",
       "      <th>400</th>\n",
       "      <td>0.0</td>\n",
       "      <td>0.0</td>\n",
       "    </tr>\n",
       "    <tr>\n",
       "      <th>401</th>\n",
       "      <td>0.0</td>\n",
       "      <td>0.0</td>\n",
       "    </tr>\n",
       "    <tr>\n",
       "      <th>402</th>\n",
       "      <td>0.0</td>\n",
       "      <td>0.0</td>\n",
       "    </tr>\n",
       "  </tbody>\n",
       "</table>\n",
       "<p>403 rows × 2 columns</p>\n",
       "</div>"
      ],
      "text/plain": [
       "     Prediction  Actual\n",
       "0           0.0     0.0\n",
       "1           0.0     1.0\n",
       "2           0.0     0.0\n",
       "3           0.0     0.0\n",
       "4           0.0     0.0\n",
       "..          ...     ...\n",
       "398         0.0     0.0\n",
       "399         0.0     0.0\n",
       "400         0.0     0.0\n",
       "401         0.0     0.0\n",
       "402         0.0     0.0\n",
       "\n",
       "[403 rows x 2 columns]"
      ]
     },
     "execution_count": 20,
     "metadata": {},
     "output_type": "execute_result"
    }
   ],
   "source": [
    "RF_results = pd.DataFrame({\"Prediction\": RF_predictions, \"Actual\": y_test}).reset_index(drop=True)\n",
    "RF_results"
   ]
  },
  {
   "cell_type": "code",
   "execution_count": 21,
   "metadata": {},
   "outputs": [
    {
     "data": {
      "text/plain": [
       "[(0.43355934656197337, 'experience'),\n",
       " (0.0333660396214382, 'company_size_50-99'),\n",
       " (0.03209708294196336, 'company_type_Pvt Ltd'),\n",
       " (0.03086078759615543, 'education_level_Masters'),\n",
       " (0.029770659005080045, 'education_level_Graduate'),\n",
       " (0.027802069317393385, 'company_size_100-500'),\n",
       " (0.026519213826763387, 'gender_Female'),\n",
       " (0.025863085595579018, 'gender_Male'),\n",
       " (0.025456458724458945, 'company_size_10000+'),\n",
       " (0.024429474459209347, 'enrolled_university_no_enrollment'),\n",
       " (0.022643834509569905, 'company_size_10/49'),\n",
       " (0.02246501165950302, 'relevent_experience_No relevent experience'),\n",
       " (0.02065670777294555, 'relevent_experience_Has relevent experience'),\n",
       " (0.02038409167899856, 'company_size_500-999'),\n",
       " (0.020020401537383648, 'major_discipline_STEM'),\n",
       " (0.019984958330959132, 'company_type_Funded Startup'),\n",
       " (0.019795674332620156, 'company_size_<10'),\n",
       " (0.0187495402739033, 'company_size_1000-4999'),\n",
       " (0.018601093202774005, 'enrolled_university_Full time course'),\n",
       " (0.01824295331339318, 'company_type_Public Sector'),\n",
       " (0.016977606317067406, 'company_type_NGO'),\n",
       " (0.01666654461450122, 'company_size_5000-9999'),\n",
       " (0.013596595776547126, 'company_type_Early Stage Startup'),\n",
       " (0.013234078523129389, 'enrolled_university_Part time course'),\n",
       " (0.009451329748417288, 'major_discipline_Humanities'),\n",
       " (0.008825676835415791, 'company_type_Other'),\n",
       " (0.007199068634853403, 'major_discipline_No Major'),\n",
       " (0.006855302090814419, 'major_discipline_Business Degree'),\n",
       " (0.00648865523210253, 'major_discipline_Arts'),\n",
       " (0.005665727840478679, 'education_level_Phd'),\n",
       " (0.0037709301246078774, 'major_discipline_Other')]"
      ]
     },
     "execution_count": 21,
     "metadata": {},
     "output_type": "execute_result"
    }
   ],
   "source": [
    "feature_names = X_train.columns\n",
    "sorted(zip(rf.feature_importances_, feature_names), reverse=True)"
   ]
  },
  {
   "cell_type": "markdown",
   "metadata": {},
   "source": [
    "# KNN"
   ]
  },
  {
   "cell_type": "code",
   "execution_count": 22,
   "metadata": {},
   "outputs": [],
   "source": [
    "from sklearn.neighbors import KNeighborsClassifier\n",
    "from sklearn.preprocessing import StandardScaler"
   ]
  },
  {
   "cell_type": "code",
   "execution_count": 23,
   "metadata": {},
   "outputs": [],
   "source": [
    "# Create a StandardScater model and fit it to the training data\n",
    "\n",
    "X_scaler = StandardScaler().fit(X_train)"
   ]
  },
  {
   "cell_type": "code",
   "execution_count": 24,
   "metadata": {},
   "outputs": [
    {
     "data": {
      "text/plain": [
       "array([[ 1.57670829,  1.00082884, -1.00082884, ..., -0.09590268,\n",
       "        -0.28555423,  0.64549722],\n",
       "       [ 0.06102901, -0.99917184,  0.99917184, ..., -0.09590268,\n",
       "        -0.28555423,  0.64549722],\n",
       "       [-0.69681063, -0.99917184,  0.99917184, ..., -0.09590268,\n",
       "        -0.28555423,  0.64549722],\n",
       "       ...,\n",
       "       [-0.99994649,  1.00082884, -1.00082884, ..., -0.09590268,\n",
       "        -0.28555423,  0.64549722],\n",
       "       [-0.24210685, -0.99917184,  0.99917184, ..., -0.09590268,\n",
       "        -0.28555423, -1.54919334],\n",
       "       [-0.84837856,  1.00082884, -1.00082884, ..., -0.09590268,\n",
       "         3.50196177, -1.54919334]])"
      ]
     },
     "execution_count": 24,
     "metadata": {},
     "output_type": "execute_result"
    }
   ],
   "source": [
    "# Transform the training and testing data using the X_scaler and y_scaler models\n",
    "\n",
    "X_train_scaled = X_scaler.transform(X_train)\n",
    "X_test_scaled = X_scaler.transform(X_test)\n",
    "\n",
    "X_train_scaled"
   ]
  },
  {
   "cell_type": "markdown",
   "metadata": {},
   "source": [
    "Finding optimal K value"
   ]
  },
  {
   "cell_type": "code",
   "execution_count": 25,
   "metadata": {},
   "outputs": [
    {
     "name": "stdout",
     "output_type": "stream",
     "text": [
      "k: 1, Train/Test Score: 0.929/0.725\n",
      "k: 3, Train/Test Score: 0.866/0.816\n",
      "k: 5, Train/Test Score: 0.840/0.821\n",
      "k: 7, Train/Test Score: 0.838/0.846\n",
      "k: 9, Train/Test Score: 0.831/0.849\n",
      "k: 11, Train/Test Score: 0.830/0.841\n",
      "k: 13, Train/Test Score: 0.825/0.841\n",
      "k: 15, Train/Test Score: 0.826/0.846\n",
      "k: 17, Train/Test Score: 0.824/0.849\n",
      "k: 19, Train/Test Score: 0.823/0.849\n"
     ]
    },
    {
     "ename": "NameError",
     "evalue": "name 'args' is not defined",
     "output_type": "error",
     "traceback": [
      "\u001b[1;31m---------------------------------------------------------------------------\u001b[0m",
      "\u001b[1;31mNameError\u001b[0m                                 Traceback (most recent call last)",
      "\u001b[1;32m<ipython-input-25-41e53aa50d40>\u001b[0m in \u001b[0;36m<module>\u001b[1;34m\u001b[0m\n\u001b[0;32m     18\u001b[0m \u001b[0mplt\u001b[0m\u001b[1;33m.\u001b[0m\u001b[0mylabel\u001b[0m\u001b[1;33m(\u001b[0m\u001b[1;34m\"Testing accuracy Score\"\u001b[0m\u001b[1;33m)\u001b[0m\u001b[1;33m\u001b[0m\u001b[1;33m\u001b[0m\u001b[0m\n\u001b[0;32m     19\u001b[0m \u001b[1;33m\u001b[0m\u001b[0m\n\u001b[1;32m---> 20\u001b[1;33m \u001b[0mplt\u001b[0m\u001b[1;33m.\u001b[0m\u001b[0msavefig\u001b[0m\u001b[1;33m(\u001b[0m\u001b[1;33m*\u001b[0m\u001b[0margs\u001b[0m\u001b[1;33m,\u001b[0m \u001b[1;33m**\u001b[0m\u001b[0mkwargs\u001b[0m\u001b[1;33m)\u001b[0m\u001b[1;33m\u001b[0m\u001b[1;33m\u001b[0m\u001b[0m\n\u001b[0m\u001b[0;32m     21\u001b[0m \u001b[0mplt\u001b[0m\u001b[1;33m.\u001b[0m\u001b[0mshow\u001b[0m\u001b[1;33m(\u001b[0m\u001b[1;33m)\u001b[0m\u001b[1;33m\u001b[0m\u001b[1;33m\u001b[0m\u001b[0m\n",
      "\u001b[1;31mNameError\u001b[0m: name 'args' is not defined"
     ]
    },
    {
     "data": {
      "image/png": "[encoded data removed]",
      "text/plain": [
       "<Figure size 432x288 with 1 Axes>"
      ]
     },
     "metadata": {
      "needs_background": "light"
     },
     "output_type": "display_data"
    }
   ],
   "source": [
    "# Loop through different k values to see which has the highest accuracy\n",
    "# Note: We only use odd numbers because we don't want any ties\n",
    "train_scores = []\n",
    "test_scores = []\n",
    "for k in range(1, 20, 2):\n",
    "    knn = KNeighborsClassifier(n_neighbors=k)\n",
    "    knn.fit(X_train, y_train)\n",
    "    train_score = knn.score(X_train, y_train)\n",
    "    test_score = knn.score(X_test, y_test)\n",
    "    train_scores.append(train_score)\n",
    "    test_scores.append(test_score)\n",
    "    print(f\"k: {k}, Train/Test Score: {train_score:.3f}/{test_score:.3f}\")\n",
    "    \n",
    "    \n",
    "plt.plot(range(1, 20, 2), train_scores, marker='o')\n",
    "plt.plot(range(1, 20, 2), test_scores, marker=\"x\")\n",
    "plt.xlabel(\"k neighbors\")\n",
    "plt.ylabel(\"Testing accuracy Score\")\n",
    "\n",
    "plt.savefig(*args, **kwargs)\n",
    "plt.show()"
   ]
  },
  {
   "cell_type": "code",
   "execution_count": null,
   "metadata": {},
   "outputs": [],
   "source": [
    "# Note that k: XXX seems to be the best choice for this dataset\n",
    "knn = KNeighborsClassifier(n_neighbors=7)\n",
    "knn.fit(X_train_scaled, y_train)\n",
    "print('k=7 Test Acc: %.3f' % knn.score(X_test_scaled, y_test))"
   ]
  },
  {
   "cell_type": "code",
   "execution_count": null,
   "metadata": {},
   "outputs": [],
   "source": [
    "print(f\"Training Data Score: {knn.score(X_train, y_train)}\")\n",
    "print(f\"Testing Data Score: {knn.score(X_test, y_test)}\")"
   ]
  },
  {
   "cell_type": "code",
   "execution_count": null,
   "metadata": {},
   "outputs": [],
   "source": [
    "KNN_predictions = knn.predict(X_test)\n",
    "print(f\"First 10 Predictions:   {KNN_predictions[:10]}\")\n",
    "print(f\"First 10 Actual targets: {y_test[:10].tolist()}\")"
   ]
  },
  {
   "cell_type": "code",
   "execution_count": null,
   "metadata": {},
   "outputs": [],
   "source": [
    "KNN_results = pd.DataFrame({\"Prediction\": KNN_predictions, \"Actual\": y_test}).reset_index(drop=True)\n",
    "KNN_results"
   ]
  },
  {
   "cell_type": "code",
   "execution_count": null,
   "metadata": {},
   "outputs": [],
   "source": [
    "from sklearn.model_selection import cross_val_score\n",
    "# from imblearn.pipeline import Pipeline\n",
    "# from imblearn.over_sampling import SMOTE\n",
    "\n",
    "def evaluate_model(model, X, y):\n",
    "    \n",
    "#     classifier = Pipeline([\n",
    "#         ('passthrough', SMOTE()),\n",
    "#         ('model', model)\n",
    "#     ])\n",
    "    \n",
    "    model.fit(X, y)\n",
    "    \n",
    "    auc = cross_val_score(model, X, y, cv=None, scoring='roc_auc')\n",
    "    print(\"AUC score of \" + model.__class__.__name__ + \" = \" + str(auc.mean()))\n",
    "    \n",
    "    return model"
   ]
  },
  {
   "cell_type": "code",
   "execution_count": null,
   "metadata": {},
   "outputs": [],
   "source": [
    "classifier_LR = evaluate_model(LogisticRegression(), X_train, y_train)\n",
    "classifier_RF = evaluate_model(RandomForestClassifier(), X_train, y_train)\n",
    "classifier_KNN = evaluate_model(KNeighborsClassifier(), X_train, y_train)"
   ]
  },
  {
   "cell_type": "code",
   "execution_count": null,
   "metadata": {},
   "outputs": [],
   "source": [
    "from sklearn.metrics import plot_roc_curve\n",
    "\n",
    "ax = plt.gca()\n",
    "plot_roc_curve(classifier_LR, X_test, y_test, ax=ax, alpha=0.8, name=\"Logistic Regression\")\n",
    "plot_roc_curve(classifier_RF, X_test, y_test, ax=ax, alpha=0.8, name=\"Random Forest Classifier\")\n",
    "plot_roc_curve(classifier_KNN, X_test, y_test, ax=ax, alpha=0.8, name=\"KNN Classifier\")\n",
    "plt.show()"
   ]
  },
  {
   "cell_type": "code",
   "execution_count": null,
   "metadata": {},
   "outputs": [],
   "source": []
  }
 ],
 "metadata": {
  "kernelspec": {
   "display_name": "Python 3",
   "language": "python",
   "name": "python3"
  },
  "language_info": {
   "codemirror_mode": {
    "name": "ipython",
    "version": 3
   },
   "file_extension": ".py",
   "mimetype": "text/x-python",
   "name": "python",
   "nbconvert_exporter": "python",
   "pygments_lexer": "ipython3",
   "version": "3.6.12"
  },
  "varInspector": {
   "cols": {
    "lenName": 16,
    "lenType": 16,
    "lenVar": 40
   },
   "kernels_config": {
    "python": {
     "delete_cmd_postfix": "",
     "delete_cmd_prefix": "del ",
     "library": "var_list.py",
     "varRefreshCmd": "print(var_dic_list())"
    },
    "r": {
     "delete_cmd_postfix": ") ",
     "delete_cmd_prefix": "rm(",
     "library": "var_list.r",
     "varRefreshCmd": "cat(var_dic_list()) "
    }
   },
   "types_to_exclude": [
    "module",
    "function",
    "builtin_function_or_method",
    "instance",
    "_Feature"
   ],
   "window_display": false
  }
 },
 "nbformat": 4,
 "nbformat_minor": 4
}
